{
 "cells": [
  {
   "cell_type": "markdown",
   "metadata": {},
   "source": [
    "# Basic RAG Demo"
   ]
  },
  {
   "cell_type": "markdown",
   "metadata": {},
   "source": [
    "#### Requirements\n",
    "`pip install ollama` for contacting ollama server"
   ]
  },
  {
   "cell_type": "code",
   "execution_count": null,
   "metadata": {},
   "outputs": [],
   "source": [
    "!pip install ollama"
   ]
  },
  {
   "cell_type": "markdown",
   "metadata": {},
   "source": [
    "#### Let's first see, what is the behaviour without RAG"
   ]
  },
  {
   "cell_type": "code",
   "execution_count": 16,
   "metadata": {},
   "outputs": [
    {
     "name": "stdout",
     "output_type": "stream",
     "text": [
      "As of August 2021, Apple has not killed the Apple Car project, also known as \"Project Titan.\" Instead, it seems that they have been restructuring and refocusing their efforts on self-driving technology through a more modular approach. The company is currently developing autonomous driving systems, electric vehicle platforms, and software components to partner with car manufacturers in the future rather than building an entire car themselves. This strategy may evolve over time, but as of now, Apple's commitment to self-driving technology remains strong.\n"
     ]
    }
   ],
   "source": [
    "import ollama\n",
    "prompt = \"Did apple killed its apple car project?\"\n",
    "response = ollama.chat(model='dolphin-mistral:latest', messages = [{'role' : 'user', 'content' : prompt}])\n",
    "print(response['message']['content'])"
   ]
  },
  {
   "cell_type": "markdown",
   "metadata": {},
   "source": [
    "## Now let us augument LM's knowledge with external knowledge base"
   ]
  },
  {
   "cell_type": "markdown",
   "metadata": {},
   "source": [
    "### Build external knowledge\n",
    "We are going to use the content of [The Verge's coverage on Apple Car project](https://www.theverge.com/2024/2/27/24084907/apple-electric-car-project-titan-shuts-down) as the external knowledge base. I have copied the content of this page into a file called `kb.text`"
   ]
  },
  {
   "cell_type": "code",
   "execution_count": null,
   "metadata": {},
   "outputs": [],
   "source": [
    "with open('kb.text', 'r') as f:\n",
    "    print(f.read())"
   ]
  },
  {
   "cell_type": "markdown",
   "metadata": {},
   "source": [
    "## Using prompt engineering, provide this knowledge base as the *context* and **Instruct** the LLM to refer this text for answering our questions "
   ]
  },
  {
   "cell_type": "markdown",
   "metadata": {},
   "source": [
    "### Load the external knowledge base as `context`"
   ]
  },
  {
   "cell_type": "code",
   "execution_count": 18,
   "metadata": {},
   "outputs": [],
   "source": [
    "context = open('kb.text', 'r').read()"
   ]
  },
  {
   "cell_type": "markdown",
   "metadata": {},
   "source": [
    "### Set the system prompt using prompt engineering"
   ]
  },
  {
   "cell_type": "code",
   "execution_count": 22,
   "metadata": {},
   "outputs": [],
   "source": [
    "SYSTEM_PROMPT = f\"\"\"\n",
    "    For all the questions, use ONLY the information present in the context to answer. If you don't know the answer, don't provide wrong answer\n",
    "\n",
    "    context : {context}\n",
    "\"\"\"\n",
    "messages = []\n",
    "system_message = {\n",
    "    'role' : 'system',\n",
    "    'content' : SYSTEM_PROMPT\n",
    "}\n",
    "\n",
    "messages.append(system_message)"
   ]
  },
  {
   "cell_type": "markdown",
   "metadata": {},
   "source": [
    "#### Refire the prompt to see the difference"
   ]
  },
  {
   "cell_type": "code",
   "execution_count": 23,
   "metadata": {},
   "outputs": [
    {
     "name": "stdout",
     "output_type": "stream",
     "text": [
      " Yes, Apple has halted its work on developing an electric car known as \"Project Titan.\" The company will reportedly shift many people from the 2,000-person team behind the car to focus on generative AI efforts instead. Bloomberg reports that there will also be layoffs, but it's unclear how many workers it will affect.\n"
     ]
    }
   ],
   "source": [
    "\n",
    "user_message = {\n",
    "    'role' : 'user',\n",
    "    'content' : prompt\n",
    "}\n",
    "\n",
    "messages.append(user_message)\n",
    "\n",
    "response = ollama.chat(model='dolphin-mistral:latest', messages = messages)\n",
    "print(response['message']['content'])"
   ]
  }
 ],
 "metadata": {
  "kernelspec": {
   "display_name": ".venv",
   "language": "python",
   "name": "python3"
  },
  "language_info": {
   "codemirror_mode": {
    "name": "ipython",
    "version": 3
   },
   "file_extension": ".py",
   "mimetype": "text/x-python",
   "name": "python",
   "nbconvert_exporter": "python",
   "pygments_lexer": "ipython3",
   "version": "3.12.1"
  }
 },
 "nbformat": 4,
 "nbformat_minor": 2
}
